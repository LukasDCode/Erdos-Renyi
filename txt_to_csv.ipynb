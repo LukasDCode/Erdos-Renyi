{
 "cells": [
  {
   "cell_type": "code",
   "execution_count": 1,
   "metadata": {},
   "outputs": [],
   "source": [
    "import pandas as pd"
   ]
  },
  {
   "cell_type": "code",
   "execution_count": 6,
   "metadata": {},
   "outputs": [],
   "source": [
    "with open('graph_results/random1.txt', 'r') as f:\n",
    "    lines = f.readlines()\n",
    "\n",
    "n_nodes = int(lines[0])\n",
    "def to_tuple(line):\n",
    "    values = line.split()\n",
    "    return (int(values[0]), int(values[1]),)\n",
    "edges = [to_tuple(l) for l in lines[1:]]\n",
    "\n",
    "edges_df = pd.DataFrame({\n",
    "    'Ids': list(range(len(edges))),\n",
    "    'Source': [x[0] for x in edges],\n",
    "    'Target': [x[1] for x in edges]\n",
    "})\n",
    "edges_df.to_csv('spreadsheets/random1_edges.csv', index=False)"
   ]
  }
 ],
 "metadata": {
  "interpreter": {
   "hash": "521bd52f7db69f83952e45c69a41cc5a9312142da056b7c563e70a654200e62d"
  },
  "kernelspec": {
   "display_name": "Python 3.9.5 ('base')",
   "language": "python",
   "name": "python3"
  },
  "language_info": {
   "codemirror_mode": {
    "name": "ipython",
    "version": 3
   },
   "file_extension": ".py",
   "mimetype": "text/x-python",
   "name": "python",
   "nbconvert_exporter": "python",
   "pygments_lexer": "ipython3",
   "version": "3.9.5"
  },
  "orig_nbformat": 4
 },
 "nbformat": 4,
 "nbformat_minor": 2
}
